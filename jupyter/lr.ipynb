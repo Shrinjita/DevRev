{
 "cells": [
  {
   "cell_type": "code",
   "execution_count": null,
   "metadata": {},
   "outputs": [],
   "source": [
    "import numpy as np\n",
    "import matplotlib.pyplot as plt\n",
    "from sklearn.datasets import make_classification\n",
    "from sklearn.linear_model import LogisticRegression\n",
    "from qiskit import QuantumCircuit, Aer, transpile\n",
    "from qiskit.circuit.library import ZZFeatureMap\n",
    "from qiskit.aqua import QuantumInstance\n",
    "from qiskit.aqua.algorithms import QSVM\n",
    "from qiskit.aqua.components.feature_maps import FirstOrderExpansion\n",
    "\n",
    "\n",
    "X, y = make_classification(n_samples=100, n_features=1, n_informative=1, n_redundant=0, random_state=42)\n",
    "X = X.flatten()\n",
    "\n",
    "\n",
    "\n",
    "feature_map = ZZFeatureMap(2, reps=1)\n",
    "\n",
    "\n",
    "quantum_instance = QuantumInstance(Aer.get_backend('qasm_simulator'), shots=1024)\n",
    "qsvm = QSVM(feature_map, None, None)\n",
    "result = qsvm.run(quantum_instance)\n",
    "\n",
    "quantum_features = result['svm']['support_vectors']\n",
    "\n",
    "\n",
    "combined_data = np.column_stack((X, quantum_features))\n",
    "\n",
    "\n",
    "logreg = LogisticRegression()\n",
    "logreg.fit(combined_data, y)\n",
    "\n",
    "\n",
    "x_vals = np.linspace(np.min(X), np.max(X), 100)\n",
    "y_probs = logreg.predict_proba(np.column_stack((x_vals, np.zeros_like(x_vals))))[:, 1]\n",
    "\n",
    "\n",
    "plt.scatter(X, y, label='Data')\n",
    "plt.plot(x_vals, y_probs, color='red', label='Logistic Regression')\n",
    "plt.xlabel('Supply')\n",
    "plt.ylabel('Food Cost')\n",
    "plt.title('Food Cost vs. Supply')\n",
    "plt.legend()\n",
    "plt.show()\n"
   ]
  }
 ],
 "metadata": {
  "language_info": {
   "name": "python"
  },
  "orig_nbformat": 4
 },
 "nbformat": 4,
 "nbformat_minor": 2
}
